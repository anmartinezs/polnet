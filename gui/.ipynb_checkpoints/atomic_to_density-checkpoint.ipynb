{
 "cells": [
  {
   "cell_type": "markdown",
   "id": "d7fdf9c0-3a9a-4fc8-bb09-c1c32e3bc51d",
   "metadata": {},
   "source": [
    "## Macromolecule density\n",
    "\n",
    "This notebook assists to generate 3D density mpas for macromolecules. First part allows to download atomic models from PDB, this step is **optional**, PDB models can also be processed from disk. Second, the 3D density map is generated from the PDB file and stored as MRC file. "
   ]
  },
  {
   "cell_type": "code",
   "execution_count": 1,
   "id": "e9ddabd1-2fd7-497c-9300-c7ca5ea30192",
   "metadata": {
    "tags": []
   },
   "outputs": [],
   "source": [
    "from core.vtk_utilities import *\n",
    "from core.utilities import *\n",
    "from core.widgets_utilities import *\n",
    "from core.tk_utilities import *\n",
    "import io"
   ]
  },
  {
   "cell_type": "markdown",
   "id": "bb232926-bdd8-4d07-a6cd-9271e4439184",
   "metadata": {},
   "source": [
    "## Download PDB\n",
    "\n",
    "PDB atomic models can be downloaded following next steps:\n",
    "\n",
    "1. In the text box enter the name of the protein you want to download.\n",
    "2. Click the **\"Select\"** button to select the path where to save the files or leave it empty and they will be saved in a project directory.\n",
    "3. After filling it click on the **\"Save\"** button to download the proteins from the protein data bank and a vtk window will appear to display the downloaded protein.\n",
    "\n",
    "**Note** that you can repeat this process as many times as you want."
   ]
  },
  {
   "cell_type": "code",
   "execution_count": 2,
   "id": "e89d7640-cee7-4f92-98a4-d41ef0676499",
   "metadata": {
    "editable": true,
    "scrolled": true,
    "slideshow": {
     "slide_type": ""
    },
    "tags": []
   },
   "outputs": [
    {
     "data": {
      "application/vnd.jupyter.widget-view+json": {
       "model_id": "4eebc9dfefaa45cf8c261ddecc89146b",
       "version_major": 2,
       "version_minor": 0
      },
      "text/plain": [
       "HBox(children=(Text(value='1bxn', description='Enter protein name:', layout=Layout(width='450px'), placeholder…"
      ]
     },
     "metadata": {},
     "output_type": "display_data"
    },
    {
     "data": {
      "application/vnd.jupyter.widget-view+json": {
       "model_id": "20395f29d6804ec0b9ac4c553e85b89e",
       "version_major": 2,
       "version_minor": 0
      },
      "text/plain": [
       "FileChooser(path='D:\\tfg\\polnet\\gui', filename='', title='Select the path and tha name for the file', show_hid…"
      ]
     },
     "metadata": {},
     "output_type": "display_data"
    },
    {
     "data": {
      "application/vnd.jupyter.widget-view+json": {
       "model_id": "a6b4dd6a4f0e427c8ef124da82dffe09",
       "version_major": 2,
       "version_minor": 0
      },
      "text/plain": [
       "Output()"
      ]
     },
     "metadata": {},
     "output_type": "display_data"
    }
   ],
   "source": [
    "DEFAULT_DESTINATION_PATH = \"../data/templates/pdbs/\"\n",
    "\n",
    "def save(btn):\n",
    "    with output_widget:\n",
    "        path = check_dir(file_destination_widget.value, DEFAULT_DESTINATION_PATH)\n",
    "        print(path)\n",
    "        path = download_pdb(text_protein_widget.value, path)\n",
    "        if text_protein_widget.value:\n",
    "            visualize_pdb(path, 800, 600)\n",
    "            text_protein_widget.value = \"\"\n",
    "        window_download_p(path)\n",
    "\n",
    "text_protein_widget, save_button, file_destination_widget = widgets_visualize_pdb()\n",
    "output_widget = widgets.Output()\n",
    "save_button.on_click(save)\n",
    "display(output_widget)"
   ]
  },
  {
   "cell_type": "markdown",
   "id": "2c6d0037-152c-4190-87cc-b35bace68a6c",
   "metadata": {},
   "source": [
    "## Transform to density maps\n",
    "\n",
    "Once the PDBs are downloaded you can transform them into density maps. The files you want to transform can be one or several and are saved with the same name and .mrc extension in the indicated directory or, if none is indicated, in the default directory.\n",
    "\n",
    "- Intput parameters:\n",
    "\n",
    "    - Pixels size: scale (Angstrom/voxel) of the tomogram resolution. A higher value it means more fine details will be rendered, and a lower resolution means coarser rendering.\n",
    "    - Offset: additional offset in voxels for the tomogram size. Add space to the tomogram box.\n",
    "\n",
    "- Advanced parameters, if you not sure just keep the default values:\n",
    "\n",
    "    - Het: flag indicating whether HET atoms should be included in the map. HETATMs represent heteroatoms, which are atoms that are not part of the main chain.\n",
    "    - Selected chains: this is a list of protein chains. A protein chain is a continuous sequence of amino acids that forms part of the structure of a protein. Strings are usually labeled with letters, such as A, B, C, etc. For example an entry in the pdb file consists of:\n",
    "        - *ATOM      1  N   ASP A   1      13.924  41.074  28.675  1.00 15.00*, where N and A repesent the chain identifier\n",
    "    - Model: process only the model corresponding to that number instead of all. None value for all.\n",
    "\n",
    "If you want to save some in one directory and others in another, just run with the files you want for your path and run again with the rest for the other path\n",
    "\n",
    "**Note** that this process may take several minutes, and it is specially costly for large macromolecules such as ribosomes.\n"
   ]
  },
  {
   "cell_type": "code",
   "execution_count": 3,
   "id": "cae2e7b2-11fb-4be6-abf5-4e7dc7dcf347",
   "metadata": {
    "tags": []
   },
   "outputs": [
    {
     "data": {
      "application/vnd.jupyter.widget-view+json": {
       "model_id": "9a7e85f5c2f34c94b2458953abc10f16",
       "version_major": 2,
       "version_minor": 0
      },
      "text/plain": [
       "VBox(children=(Label(value='Introduce a the files you want to create the density map'), HBox(children=(Button(…"
      ]
     },
     "metadata": {},
     "output_type": "display_data"
    },
    {
     "data": {
      "application/vnd.jupyter.widget-view+json": {
       "model_id": "9fb275bf376e4296a61b6ac7fb609541",
       "version_major": 2,
       "version_minor": 0
      },
      "text/plain": [
       "Output()"
      ]
     },
     "metadata": {},
     "output_type": "display_data"
    }
   ],
   "source": [
    "DEFAULT_DESTINATION_PATH2 = \"../data/templates/mrcs_10A/\"\n",
    "files_path = []\n",
    "\n",
    "def select(btn):\n",
    "    global files_path\n",
    "    select_files(files_path, \".pdb\")\n",
    "    replace_options(files_path, dropdown)\n",
    "\n",
    "def convert(btn):\n",
    "    global files_path\n",
    "    with output_widget2:\n",
    "        if chains_widget.value:\n",
    "            chains = chains_widget.value.split(',')\n",
    "        else:\n",
    "            chains = None\n",
    "        if use_model_checkbox.value == False:\n",
    "            m = None\n",
    "        else:\n",
    "            m = model_widget.value\n",
    "        path = check_dir(file_destination_widget.value, DEFAULT_DESTINATION_PATH2)\n",
    "        convert_to_mrc(files_path, path, apix_widget.value, offset_widget.value*apix_widget.value, het_widget.value, chains, m)\n",
    "        files_path = []\n",
    "\n",
    "apix_widget, offset_widget, het_widget, chains_widget, use_model_checkbox, model_widget, files_button, dropdown, file_destination_widget, exec_button = widgets_convert_to_mrc()\n",
    "exec_button.on_click(convert)\n",
    "files_button.on_click(select)\n",
    "output_widget2 = widgets.Output()\n",
    "display(output_widget2)"
   ]
  },
  {
   "cell_type": "code",
   "execution_count": null,
   "id": "8fa5ccf8-666f-401a-a64b-069cd2149977",
   "metadata": {},
   "outputs": [],
   "source": []
  }
 ],
 "metadata": {
  "kernelspec": {
   "display_name": "Python 3 (ipykernel)",
   "language": "python",
   "name": "python3"
  },
  "language_info": {
   "codemirror_mode": {
    "name": "ipython",
    "version": 3
   },
   "file_extension": ".py",
   "mimetype": "text/x-python",
   "name": "python",
   "nbconvert_exporter": "python",
   "pygments_lexer": "ipython3",
   "version": "3.11.5"
  }
 },
 "nbformat": 4,
 "nbformat_minor": 5
}
