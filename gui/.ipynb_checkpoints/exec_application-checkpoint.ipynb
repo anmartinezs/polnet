{
 "cells": [
  {
   "cell_type": "markdown",
   "id": "c80df180-eb9c-4bf0-b522-b1f425260913",
   "metadata": {},
   "source": [
    "# Exec application\n",
    "\n",
    "In this notebook we are going to run the application but for this we need to introduce a list of parameters for its working."
   ]
  },
  {
   "cell_type": "code",
   "execution_count": 3,
   "id": "0511f4c8-7c09-4dd8-8654-025267318864",
   "metadata": {
    "jupyter": {
     "source_hidden": true
    },
    "tags": []
   },
   "outputs": [],
   "source": [
    "from core.vtk_utilities import *\n",
    "from core.utilities import *\n",
    "from core.widgets_utilities import *\n",
    "from core.all_features2 import all_features2\n",
    "from core.tk_utilities import *\n",
    "import io"
   ]
  },
  {
   "cell_type": "markdown",
   "id": "4136b39a-10f0-4a0d-9f11-ca81630d8efa",
   "metadata": {},
   "source": [
    "## Select files \n",
    "\n",
    "Now we are going to select the files that we want to use in the application. This is important because otherwise the application will not work.\n",
    "\n",
    "We have 4 types of files and 4 buttons to adds it:\n",
    "\n",
    "- Membrane files: list of membranes files to use in the application these have mbs extension\n",
    "- Filament files: list of membranes files to use in the application these have hns extension\n",
    "- Protein files: list of membranes files to use in the application these have pns extension\n",
    "- Membrane protein files: list of membranes files to use in the application these have pms extension\n",
    "\n",
    "  \n",
    "**Note** that we have a button to select each type of file and you can select one or more of them but if you don't click on the **add** button, none of the selected files will be added. Remember to select the membrane proteins that you have already **aligned** otherwise the application will not work correctly.\n"
   ]
  },
  {
   "cell_type": "code",
   "execution_count": 4,
   "id": "750f3880-e445-458c-9742-adb7e801fd8d",
   "metadata": {
    "jupyter": {
     "source_hidden": true
    },
    "tags": []
   },
   "outputs": [
    {
     "data": {
      "application/vnd.jupyter.widget-view+json": {
       "model_id": "ed65f07e2038489981e1436d8ff44278",
       "version_major": 2,
       "version_minor": 0
      },
      "text/plain": [
       "VBox(children=(Label(value='Add membrane files '), HBox(children=(Button(description='Select membrane files', …"
      ]
     },
     "metadata": {},
     "output_type": "display_data"
    }
   ],
   "source": [
    "selected_files_path_membrane = []\n",
    "selected_files_path_helix = []\n",
    "selected_files_path_proteins= []\n",
    "selected_files_path_mproteins = []\n",
    "MEMBRANES_LIST = []\n",
    "HELIX_LIST = []\n",
    "PROTEINS_LIST = []\n",
    "MB_PROTEINS_LIST = []\n",
    "    \n",
    "def select_files_membrane(btn):\n",
    "    global selected_files_path_membrane\n",
    "    select_files(selected_files_path_membrane, \".mbs\")\n",
    "    add_files(MEMBRANES_LIST, selected_files_path_membrane)\n",
    "    update_dropdown(MEMBRANES_LIST, dropdown_membrane)\n",
    "    \n",
    "def select_files_helix(btn):\n",
    "    global selected_files_path_helix\n",
    "    select_files(selected_files_path_helix, \".hns\")\n",
    "    add_files(HELIX_LIST, selected_files_path_helix)\n",
    "    update_dropdown(HELIX_LIST, dropdown_helix)\n",
    "\n",
    "def select_files_proteins(btn):\n",
    "    global selected_files_path_proteins\n",
    "    select_files(selected_files_path_proteins, \".pns\")\n",
    "    add_files(PROTEINS_LIST, selected_files_path_proteins)\n",
    "    update_dropdown(PROTEINS_LIST, dropdown_proteins)\n",
    "\n",
    "\n",
    "def select_file_mproteins(btn):\n",
    "    global selected_files_path_mproteins\n",
    "    select_files(selected_files_path_mproteins, \".pms\")\n",
    "    add_files(MB_PROTEINS_LIST, selected_files_path_mproteins)\n",
    "    update_dropdown(MB_PROTEINS_LIST, dropdown_mproteins)\n",
    "\n",
    "\n",
    "(select_file_button_membrane, dropdown_membrane,select_file_button_helix, dropdown_helix, select_file_button_proteins,\n",
    " dropdown_proteins, select_file_button_mproteins, dropdown_mproteins) = widgets_add_app_files()\n",
    "select_file_button_membrane.on_click(select_files_membrane)\n",
    "select_file_button_helix.on_click(select_files_helix)\n",
    "select_file_button_proteins.on_click(select_files_proteins)\n",
    "select_file_button_mproteins.on_click(select_file_mproteins)"
   ]
  },
  {
   "cell_type": "markdown",
   "id": "d221b8fc-09d0-4471-9ad7-b985054c8c90",
   "metadata": {},
   "source": [
    "## Exec\n",
    "\n",
    "Once we have defined the list of files to be used in the application, we need to select the last parameters and then click on **exec** application will start."
   ]
  },
  {
   "cell_type": "code",
   "execution_count": 6,
   "id": "d979d340-66d3-425a-9225-0e3b4e2aeaab",
   "metadata": {
    "jupyter": {
     "source_hidden": true
    },
    "tags": []
   },
   "outputs": [
    {
     "data": {
      "application/vnd.jupyter.widget-view+json": {
       "model_id": "b8b5e142c03a4db1a47e65dd64a7fdf4",
       "version_major": 2,
       "version_minor": 0
      },
      "text/plain": [
       "FileChooser(path='D:\\tfg\\polnet\\gui', filename='', title='Select where you want to save the output files:', sh…"
      ]
     },
     "metadata": {},
     "output_type": "display_data"
    },
    {
     "data": {
      "application/vnd.jupyter.widget-view+json": {
       "model_id": "3462ab460dcf4496adc2997a2900f7e9",
       "version_major": 2,
       "version_minor": 0
      },
      "text/plain": [
       "IntText(value=1, description='N_TOMOS:', style=DescriptionStyle(description_width='initial'))"
      ]
     },
     "metadata": {},
     "output_type": "display_data"
    },
    {
     "data": {
      "application/vnd.jupyter.widget-view+json": {
       "model_id": "88d3f2ce07be4c53a7a50f86299466ee",
       "version_major": 2,
       "version_minor": 0
      },
      "text/plain": [
       "HBox(children=(BoundedIntText(value=400, description='VOI_SHAPE:', layout=Layout(width='210px'), max=100000, s…"
      ]
     },
     "metadata": {},
     "output_type": "display_data"
    },
    {
     "data": {
      "application/vnd.jupyter.widget-view+json": {
       "model_id": "304f606a04cd41d593767eb0b385cea3",
       "version_major": 2,
       "version_minor": 0
      },
      "text/plain": [
       "HBox(children=(BoundedIntText(value=4, description='VOI_OFF:', layout=Layout(width='180px'), style=Description…"
      ]
     },
     "metadata": {},
     "output_type": "display_data"
    },
    {
     "data": {
      "application/vnd.jupyter.widget-view+json": {
       "model_id": "8231b58a2a5b40d18c50368eb9706bab",
       "version_major": 2,
       "version_minor": 0
      },
      "text/plain": [
       "BoundedFloatText(value=10.0, description='VOI_SIZE:', style=DescriptionStyle(description_width='initial'))"
      ]
     },
     "metadata": {},
     "output_type": "display_data"
    },
    {
     "data": {
      "application/vnd.jupyter.widget-view+json": {
       "model_id": "e2a75b453a3a4cd68c123a7bd9b6eeaa",
       "version_major": 2,
       "version_minor": 0
      },
      "text/plain": [
       "BoundedFloatText(value=20.0, description='MMER_TRIES:', style=DescriptionStyle(description_width='initial'))"
      ]
     },
     "metadata": {},
     "output_type": "display_data"
    },
    {
     "data": {
      "application/vnd.jupyter.widget-view+json": {
       "model_id": "41e307add1474c67a9600fec7d0f5644",
       "version_major": 2,
       "version_minor": 0
      },
      "text/plain": [
       "BoundedFloatText(value=100.0, description='PMER_TRIES:', max=1000.0, style=DescriptionStyle(description_width=…"
      ]
     },
     "metadata": {},
     "output_type": "display_data"
    },
    {
     "data": {
      "application/vnd.jupyter.widget-view+json": {
       "model_id": "31ad0bbe53dd425cb4c4c28271fc06d1",
       "version_major": 2,
       "version_minor": 0
      },
      "text/plain": [
       "BoundedFloatText(value=0.9, description='SURF_DEC:', style=DescriptionStyle(description_width='initial'))"
      ]
     },
     "metadata": {},
     "output_type": "display_data"
    },
    {
     "data": {
      "application/vnd.jupyter.widget-view+json": {
       "model_id": "49a2a62ea3bc4068905fece5bdc4adc7",
       "version_major": 2,
       "version_minor": 0
      },
      "text/plain": [
       "BoundedFloatText(value=1.0, description='MALIGN_MN:', style=DescriptionStyle(description_width='initial'))"
      ]
     },
     "metadata": {},
     "output_type": "display_data"
    },
    {
     "data": {
      "application/vnd.jupyter.widget-view+json": {
       "model_id": "721cd600951344ddb31f6947f2936b29",
       "version_major": 2,
       "version_minor": 0
      },
      "text/plain": [
       "BoundedFloatText(value=1.5, description='MALIGN_MX:', style=DescriptionStyle(description_width='initial'))"
      ]
     },
     "metadata": {},
     "output_type": "display_data"
    },
    {
     "data": {
      "application/vnd.jupyter.widget-view+json": {
       "model_id": "c7aa01a836ce4ee9a59bc5b874955889",
       "version_major": 2,
       "version_minor": 0
      },
      "text/plain": [
       "BoundedFloatText(value=0.2, description='MALIGN_SG:', style=DescriptionStyle(description_width='initial'))"
      ]
     },
     "metadata": {},
     "output_type": "display_data"
    },
    {
     "data": {
      "application/vnd.jupyter.widget-view+json": {
       "model_id": "237ff208690d4826892eee5b35f138c4",
       "version_major": 2,
       "version_minor": 0
      },
      "text/plain": [
       "Checkbox(value=False, description='Activate PROP_LIST')"
      ]
     },
     "metadata": {},
     "output_type": "display_data"
    },
    {
     "data": {
      "application/vnd.jupyter.widget-view+json": {
       "model_id": "9e74bc52e2294c33b9c69e68de1c6146",
       "version_major": 2,
       "version_minor": 0
      },
      "text/plain": [
       "FloatRangeSlider(value=(0.4, 0.6), description='PROP_LIST:', disabled=True, max=1.0, readout_format='.4f', ste…"
      ]
     },
     "metadata": {},
     "output_type": "display_data"
    },
    {
     "data": {
      "application/vnd.jupyter.widget-view+json": {
       "model_id": "c41229116b6d49fba23cea7afa58efe5",
       "version_major": 2,
       "version_minor": 0
      },
      "text/plain": [
       "FloatRangeSlider(value=(1.0, 2.0), description='DETECTO_SNR:', readout_format='.4f', step=0.001, style=SliderS…"
      ]
     },
     "metadata": {},
     "output_type": "display_data"
    },
    {
     "data": {
      "application/vnd.jupyter.widget-view+json": {
       "model_id": "7d2d4a880aae408298f65e9c5dee7bba",
       "version_major": 2,
       "version_minor": 0
      },
      "text/plain": [
       "HBox(children=(BoundedIntText(value=-60, description='TIL_ANGS:', layout=Layout(width='160px'), max=100000, mi…"
      ]
     },
     "metadata": {},
     "output_type": "display_data"
    },
    {
     "data": {
      "application/vnd.jupyter.widget-view+json": {
       "model_id": "96f640421d944885ae60762c30e1ca99",
       "version_major": 2,
       "version_minor": 0
      },
      "text/plain": [
       "Button(description='Exec', style=ButtonStyle())"
      ]
     },
     "metadata": {},
     "output_type": "display_data"
    },
    {
     "data": {
      "application/vnd.jupyter.widget-view+json": {
       "model_id": "3da3cf9eb8714d179d5d4f6fbd4a4342",
       "version_major": 2,
       "version_minor": 0
      },
      "text/plain": [
       "Output()"
      ]
     },
     "metadata": {},
     "output_type": "display_data"
    }
   ],
   "source": [
    "DEF_PATH = os.path.realpath(os.getcwd() + '/../data') +  '/../data_generated/polnet_test'\n",
    "def generate_voi_shape():\n",
    "    return (voi_shape1.value, voi_shape2.value, voi_shape3.value)\n",
    "\n",
    "def generate_tilts_angs():\n",
    "    return range(widget_min.value, widget_max.value, widget_paso.value)\n",
    "\n",
    "def generate_voi_off():\n",
    "    return ((voi_off_widget_1.value, voi_off_widget_2.value),\n",
    "            (voi_off_widget_3.value, voi_off_widget_4.value),\n",
    "            (voi_off_widget_5.value, voi_off_widget_6.value))\n",
    "\n",
    "\n",
    "\n",
    "def exec_app(btn):\n",
    "    with output_widget:\n",
    "        path = check_dir(widget_out_dir.selected_path, DEF_PATH)\n",
    "        if MEMBRANES_LIST or HELIX_LIST or PROTEINS_LIST or MB_PROTEINS_LIST:\n",
    "            prop_list = check_prop_list(checkbox_widget.value, prop_list_widget.value)\n",
    "            all_features2(ntomos_widget.value, generate_voi_shape(),\n",
    "                          path, generate_voi_off(), voi_size_widget.value,\n",
    "                          mmer_tries_widget.value, pmer_tries_widget.value,\n",
    "                          MEMBRANES_LIST, HELIX_LIST, PROTEINS_LIST, MB_PROTEINS_LIST,\n",
    "                          prop_list, surf_dec_widget.value,\n",
    "                          generate_tilts_angs(), detector_snr_widget.value,\n",
    "                          malign_mn_widget.value, malign_mx_widget.value, malign_sg_widget.value)\n",
    "        else:\n",
    "            window_exec_app_failed()\n",
    "\n",
    "\n",
    "(widget_out_dir, ntomos_widget, voi_shape1, voi_shape2, voi_shape3, voi_off_widget_1, voi_off_widget_2, voi_off_widget_3, voi_off_widget_4, \n",
    "voi_off_widget_5, voi_off_widget_6,voi_size_widget, mmer_tries_widget, \n",
    "pmer_tries_widget, surf_dec_widget, malign_mn_widget, malign_mx_widget, malign_sg_widget, checkbox_widget,  \n",
    "prop_list_widget, detector_snr_widget, widget_min, widget_max, widget_paso, exec_button) = widgets_exec_app()\n",
    "\n",
    "output_widget = widgets.Output()\n",
    "\n",
    "exec_button.on_click(exec_app)\n",
    "display(output_widget)"
   ]
  }
 ],
 "metadata": {
  "kernelspec": {
   "display_name": "Python 3 (ipykernel)",
   "language": "python",
   "name": "python3"
  },
  "language_info": {
   "codemirror_mode": {
    "name": "ipython",
    "version": 3
   },
   "file_extension": ".py",
   "mimetype": "text/x-python",
   "name": "python",
   "nbconvert_exporter": "python",
   "pygments_lexer": "ipython3",
   "version": "3.11.5"
  }
 },
 "nbformat": 4,
 "nbformat_minor": 5
}
